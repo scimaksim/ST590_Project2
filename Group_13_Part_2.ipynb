{
 "cells": [
  {
   "cell_type": "markdown",
   "id": "1ddf830e-e303-4fec-b5f0-59f8a66cc512",
   "metadata": {},
   "source": [
    "# ST590 - Project 2"
   ]
  },
  {
   "cell_type": "markdown",
   "id": "62186834-cc37-4400-88d1-53b81bf272f5",
   "metadata": {},
   "source": [
    "Authored by Group 13 - Dave Bergeron, Xavier Genelin, and Maksim Nikiforov"
   ]
  },
  {
   "cell_type": "markdown",
   "id": "e936e7b9-1f30-461d-ab3b-f55d2a0d20c6",
   "metadata": {},
   "source": [
    "## Part 2"
   ]
  },
  {
   "cell_type": "code",
   "execution_count": null,
   "id": "c49b5c80-41f7-4349-852c-a279bd251818",
   "metadata": {},
   "outputs": [],
   "source": []
  },
  {
   "cell_type": "code",
   "execution_count": null,
   "id": "d5a78764-3500-48c9-9a08-98c641c3c3bc",
   "metadata": {},
   "outputs": [],
   "source": []
  },
  {
   "cell_type": "code",
   "execution_count": null,
   "id": "6323f3b3-7649-4ebe-bd0c-bd81462db7c7",
   "metadata": {},
   "outputs": [],
   "source": []
  }
 ],
 "metadata": {
  "kernelspec": {
   "display_name": "Python 3 (ipykernel)",
   "language": "python",
   "name": "python3"
  },
  "language_info": {
   "codemirror_mode": {
    "name": "ipython",
    "version": 3
   },
   "file_extension": ".py",
   "mimetype": "text/x-python",
   "name": "python",
   "nbconvert_exporter": "python",
   "pygments_lexer": "ipython3",
   "version": "3.10.2"
  }
 },
 "nbformat": 4,
 "nbformat_minor": 5
}
