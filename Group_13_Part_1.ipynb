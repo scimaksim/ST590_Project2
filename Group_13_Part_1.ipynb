{
 "cells": [
  {
   "cell_type": "markdown",
   "id": "800f89c8-4e14-4c14-9e2a-7cd6efae7aab",
   "metadata": {
    "tags": []
   },
   "source": [
    "# ST590 - Project 2"
   ]
  },
  {
   "cell_type": "markdown",
   "id": "cc57923b-378a-42b3-ab61-663eb8fb91f5",
   "metadata": {},
   "source": [
    "Authored by Group 13 - Dave Bergeron, Xavier Genelin, and Maksim Nikiforov"
   ]
  },
  {
   "cell_type": "markdown",
   "id": "72710158-78dd-4056-acff-ca85c068ace0",
   "metadata": {},
   "source": [
    "---\n",
    "Placeholder cell for work in progress\n",
    "\n",
    "Relevant links:\n",
    "- [The Netflix Tech Blog (browse for relevant posts)](https://netflixtechblog.com/)\n",
    "- [Evolution of the Netflix Data Pipeline](https://netflixtechblog.com/evolution-of-the-netflix-data-pipeline-da246ca36905)\n",
    "- [Rapid Event Notification System at Netflix](https://netflixtechblog.com/rapid-event-notification-system-at-netflix-6deb1d2b57d1)\n",
    "- [Notebooks at Netflix: From analytics to engineering (sponsored by Netflix) - Michelle Ufford (Netflix) Kyle Kelley (Netflix)](https://learning.oreilly.com/videos/jupytercon-new-york/9781492025818/9781492025818-video322538/)\n",
    "- [Petabytes Scale Analytics Infrastructure @Netflix](https://www.infoq.com/presentations/netflix-big-data-infrastructure/)\n",
    "---"
   ]
  },
  {
   "cell_type": "markdown",
   "id": "26531341-f727-4417-aba6-a8c02ca6a67d",
   "metadata": {},
   "source": [
    "## Introduction"
   ]
  },
  {
   "cell_type": "markdown",
   "id": "98156c59-3497-4ebd-817c-c772bad3d796",
   "metadata": {
    "citation-manager": {
     "citations": {
      "3ezti": [
       {
        "id": "6578788/IPJC2YZY",
        "source": "zotero"
       }
      ],
      "4ys1u": [
       {
        "id": "6578788/QUNPSV7I",
        "source": "zotero"
       }
      ],
      "fmf8k": [
       {
        "id": "6578788/FQ5QA3NL",
        "source": "zotero"
       }
      ],
      "h21l8": [
       {
        "id": "6578788/X3RK3LMK",
        "source": "zotero"
       }
      ],
      "hkegq": [
       {
        "id": "6578788/L2QBMLX2",
        "source": "zotero"
       }
      ],
      "pikae": [
       {
        "id": "6578788/QUNPSV7I",
        "source": "zotero"
       }
      ],
      "rj71k": [
       {
        "id": "6578788/S5MM5FDD",
        "source": "zotero"
       }
      ],
      "srtxk": [
       {
        "id": "6578788/JMNSJ7WZ",
        "source": "zotero"
       }
      ]
     }
    },
    "tags": []
   },
   "source": [
    "Netflix is \"one of the world's leading entertainment services\", providing access to TV series, movies, documentaries, and mobile games to over 200 million subscribers <cite id=\"fmf8k\"><a href=\"#zotero|6578788/FQ5QA3NL\">(<i>Netflix - Overview - Profile</i>, n.d.)</a></cite>. Within the company, \"[d]ata is used to inform a wide range of questions — ‘How can we make the product experience even better?’, ‘Which shows and films bring the most joy to our members?’, ‘Who can we partner with to expand access to our service in new markets?’ <cite id=\"3ezti\"><a href=\"#zotero|6578788/IPJC2YZY\">(Jackman &#38; Reddy, 2020)</a></cite>. The company's data scientists, engineers, analysts, and visualizers regularly interact with internal business verticals - product, content, membership, studio, marketing, and platform - to analyze viewership patterns, estimate the sizes of target audiences for content, and invest accordingly in that content <cite id=\"4ys1u\"><a href=\"#zotero|6578788/QUNPSV7I\">(Ufford &#38; Kelley, 2018)</a></cite>. They work on optimization problems to determine where to cache content to remain \"as close as possible to the end user and consequently to send as few bytes as possible across the wider internet\" <cite id=\"h21l8\"><a href=\"#zotero|6578788/X3RK3LMK\">(Berglund, 2017)</a></cite>. Data teams are also critical to providing a near real-time and consistent user experience <cite id=\"rj71k\"><a href=\"#zotero|6578788/S5MM5FDD\">(Gulati &#38; Gevorkyan, 2022)</a></cite>, continuously delivering incremental changes <cite id=\"srtxk\"><a href=\"#zotero|6578788/JMNSJ7WZ\">(<i>Morgan Stanley Technology, Media &#38; Telecom Conference</i>, 2022)</a></cite>, and quickly troubleshooting problems <cite id=\"hkegq\"><a href=\"#zotero|6578788/L2QBMLX2\">(Srivastava &#38; Mayworm, 2022)</a></cite>. They do this at mind-boggling scale; in 2018, Netflix was ingesting more than 1 trillion streaming events _per day_ and filtering it into a data warehouse that contained over 100 petabytes of data  <cite id=\"pikae\"><a href=\"#zotero|6578788/QUNPSV7I\">(Ufford &#38; Kelley, 2018)</a></cite>. The sections below discuss challenges that result from data of this size and the technical architecture that keeps Netflix operational.       \n",
    "\n",
    "<div style=\"width:image width px; \n",
    "            font-size:80%; \n",
    "            text-align:center; \n",
    "            float: left; padding-left-right-top-bottom:0.5em;  \n",
    "            border-style: solid; border-color: rgba(211, 211, 211, 0.1);\n",
    "            background-color: rgb(255, 255, 255);\">\n",
    "    <img src=\"images/1_Pm_2Ai349Qh0W-caNQ9agQ.png\" \n",
    "         alt=\"Responsibilities of data analysts, engineers, and visualizers at Netflix\" \n",
    "         width=400 \n",
    "         style=\"padding-bottom:0.5em;\"/>\n",
    "    <div style=\"padding: 3px; \n",
    "                width: 400px; \n",
    "                word-wrap: break-word; \n",
    "                text-align:center;\">\n",
    "        Responsibilities of data professionals at Netflix. <br> \n",
    "        <a href=\"https://netflixtechblog.com/analytics-at-netflix-who-we-are-and-what-we-do-7d9c08fe6965\" \n",
    "           style=\"float: right;\"> \n",
    "           Image Source \n",
    "        </a>\n",
    "    </div>\n",
    "</div>"
   ]
  },
  {
   "cell_type": "markdown",
   "id": "dcd22a78-6e85-42e6-8a37-09ec8acecf53",
   "metadata": {
    "tags": []
   },
   "source": [
    "## Data ingestion"
   ]
  },
  {
   "cell_type": "markdown",
   "id": "3208425f-910b-4020-a6e4-6090b0056772",
   "metadata": {
    "citation-manager": {
     "citations": {
      "8hvwm": [
       {
        "id": "6578788/USR3CK7T",
        "source": "zotero"
       }
      ],
      "lu6h5": [
       {
        "id": "6578788/QUNPSV7I",
        "source": "zotero"
       }
      ],
      "uzdvv": [
       {
        "id": "6578788/AZYUGXBD",
        "source": "zotero"
       }
      ],
      "vwd4k": [
       {
        "id": "6578788/USR3CK7T",
        "source": "zotero"
       }
      ],
      "w1msp": [
       {
        "id": "6578788/L2QBMLX2",
        "source": "zotero"
       }
      ],
      "z2ufe": [
       {
        "id": "6578788/KM2X2AE5",
        "source": "zotero"
       }
      ]
     }
    },
    "tags": []
   },
   "source": [
    "According to Michelle Ufford, who led the Big Data Tools team at Netflix, Netflix continuously tracks user activity. \"As soon as you log in...we're tracking what is the content that we are showing you, because every single member, and every single profile, is completely 100% personalized\" <cite id=\"lu6h5\"><a href=\"#zotero|6578788/QUNPSV7I\">(Ufford &#38; Kelley, 2018)</a></cite>. Events such as playing video, pausing video, quality changes, and content switching are streamed continuously to Netflix, and ingestion systems must handle \"spikes due to a popular show coming online or unexpected failure scenarios\" <cite id=\"8hvwm\"><a href=\"#zotero|6578788/USR3CK7T\">(Xu, 2018)</a></cite>. When systems do fail, they must recover quickly and automatically or re-route traffic to servers in other clusters. \n",
    "\n",
    "To accept and process streaming data, Netflix implemented an ingestion platform called \"Keystone\" using Apache Kafka and Apache Flink <cite id=\"vwd4k\"><a href=\"#zotero|6578788/USR3CK7T\">(Xu, 2018)</a></cite>. As a distributed event-streaming platform, Kafka can capture incoming data from a multitude of sensors, mobile devices, and software applications and store it durably as event logs (or \"topics\") <cite id=\"z2ufe\"><a href=\"#zotero|6578788/KM2X2AE5\">(<i>Apache Kafka</i>, n.d.)</a></cite>. Flink, a distributed in-memory processing engine, can consume Kafka's topics as input for ETL (extract, transform, load) pipelines to aggregate and enrich streaming data with SQL, Java, Scala, or Python <cite id=\"uzdvv\"><a href=\"#zotero|6578788/AZYUGXBD\">(<i>Data Pipelines &#38; ETL</i>, n.d.)</a></cite>. Recently, Netflix has incroporated both platforms into an auto-diagnosis and remediation system called _Pensive_ <cite id=\"w1msp\"><a href=\"#zotero|6578788/L2QBMLX2\">(Srivastava &#38; Mayworm, 2022)</a></cite>. Pensive can monitor metrics to diagnose errors, automatically deploy new Flink clusters, increase and decrease the retention size of Kafka topics, or alert engineers about ongoing problems. In the future, the owners of Pensive hope to augment the platform's business rules engine with additional machine learning capabilities to classify a greater number of errors and to help tune Apache Spark clusters.         \n",
    "\n",
    "<div style=\"width:image width px; \n",
    "            font-size:80%; \n",
    "            text-align:center; \n",
    "            float: left; padding-left-right-top-bottom:0.5em;  \n",
    "            border-style: solid; border-color: rgba(211, 211, 211, 0.1);\n",
    "            background-color: rgb(255, 255, 255);\">\n",
    "    <img src=\"images/1_Qw07CY3mlmfcI70UFZv0GQ.jpeg\" \n",
    "         alt=\"Pensive, an auto-diagnosis and remediation system for data platforms at Netflix\" \n",
    "         width=400 \n",
    "         style=\"padding-bottom:0.5em;\"/>\n",
    "    <div style=\"padding: 3px; \n",
    "                width: 400px; \n",
    "                word-wrap: break-word; \n",
    "                text-align:center;\">\n",
    "        The streaming architecture of Pensive, an auto-diagnosis and remediation system for data platforms at Netflix. <br> \n",
    "        <a href=\"https://netflixtechblog.com/analytics-at-netflix-who-we-are-and-what-we-do-7d9c08fe6965\" \n",
    "           style=\"float: right;\"> \n",
    "           Image Source \n",
    "        </a>\n",
    "    </div>\n",
    "</div>"
   ]
  },
  {
   "cell_type": "markdown",
   "id": "efe006b9-80e7-435e-90a1-dffde23d5bbe",
   "metadata": {},
   "source": [
    "# Data storage and analysis"
   ]
  },
  {
   "cell_type": "code",
   "execution_count": null,
   "id": "2fdf7752-b819-4c31-99cd-c9c7cdfdb508",
   "metadata": {},
   "outputs": [],
   "source": []
  },
  {
   "cell_type": "markdown",
   "id": "b84422e2-18de-4820-980b-ef93033633bb",
   "metadata": {},
   "source": [
    "# Data visualization"
   ]
  },
  {
   "cell_type": "code",
   "execution_count": null,
   "id": "ac38b73f-c6ec-4da9-b5ea-e950016c3c06",
   "metadata": {},
   "outputs": [],
   "source": []
  },
  {
   "cell_type": "markdown",
   "id": "c4fc01f3-9d47-4345-978f-e644d083c552",
   "metadata": {},
   "source": [
    "## Bibliography"
   ]
  },
  {
   "cell_type": "markdown",
   "id": "385698b7-6b30-498d-b761-c6834237ba60",
   "metadata": {},
   "source": [
    "<!-- BIBLIOGRAPHY START -->\n",
    "<div class=\"csl-bib-body\">\n",
    "  <div class=\"csl-entry\"><i id=\"zotero|6578788/KM2X2AE5\"></i><i>Apache Kafka</i>. (n.d.). Apache Kafka. Retrieved March 11, 2022, from https://kafka.apache.org/documentation/#intro_concepts_and_terms</div>\n",
    "  <div class=\"csl-entry\"><i id=\"zotero|6578788/X3RK3LMK\"></i>Berglund, A. (2017, May 25). <i>How Data Science Helps Power Worldwide Delivery of Netflix Content</i>. Medium. https://netflixtechblog.com/how-data-science-helps-power-worldwide-delivery-of-netflix-content-bac55800f9a7</div>\n",
    "  <div class=\"csl-entry\"><i id=\"zotero|6578788/AZYUGXBD\"></i><i>Data Pipelines &#38; ETL</i>. (n.d.). Retrieved March 11, 2022, from //nightlies.apache.org/flink/flink-docs-master/docs/learn-flink/etl/</div>\n",
    "  <div class=\"csl-entry\"><i id=\"zotero|6578788/S5MM5FDD\"></i>Gulati, A., &#38; Gevorkyan, D. (2022, February 18). <i>Rapid Event Notification System at Netflix</i>. Medium. https://netflixtechblog.com/rapid-event-notification-system-at-netflix-6deb1d2b57d1</div>\n",
    "  <div class=\"csl-entry\"><i id=\"zotero|6578788/IPJC2YZY\"></i>Jackman, M., &#38; Reddy, M. (2020, December 18). <i>Analytics at Netflix: Who we are and what we do</i>. Netflix Technology Blog. https://netflixtechblog.com/analytics-at-netflix-who-we-are-and-what-we-do-7d9c08fe6965</div>\n",
    "  <div class=\"csl-entry\"><i id=\"zotero|6578788/JMNSJ7WZ\"></i><i>Morgan Stanley Technology, Media &#38; Telecom Conference</i>. (2022, March 8). Investor Events. https://morganstanley.webcasts.com/viewer/event.jsp?ei=1534749&#38;tp_key=67fe6fb0ba</div>\n",
    "  <div class=\"csl-entry\"><i id=\"zotero|6578788/FQ5QA3NL\"></i><i>Netflix - Overview - Profile</i>. (n.d.). Retrieved March 11, 2022, from https://ir.netflix.net/ir-overview/profile/default.aspx</div>\n",
    "  <div class=\"csl-entry\"><i id=\"zotero|6578788/L2QBMLX2\"></i>Srivastava, V., &#38; Mayworm, M. (2022, January 20). <i>Auto-Diagnosis and Remediation in Netflix Data Platform</i>. Medium. https://netflixtechblog.com/auto-diagnosis-and-remediation-in-netflix-data-platform-5bcc52d853d1</div>\n",
    "  <div class=\"csl-entry\"><i id=\"zotero|6578788/QUNPSV7I\"></i>Ufford, M., &#38; Kelley, K. (2018). <i>Notebooks at Netflix: From analytics to engineering (sponsored by Netflix) - Michelle Ufford (Netflix) Kyle Kelley (Netflix)</i>. O’Reilly Online Learning. https://learning.oreilly.com/videos/jupytercon-new-york/9781492025818/9781492025818-video322538/</div>\n",
    "  <div class=\"csl-entry\"><i id=\"zotero|6578788/USR3CK7T\"></i>Xu, Z. (2018, September 10). <i>Keystone Real-time Stream Processing Platform</i>. Medium. https://netflixtechblog.com/keystone-real-time-stream-processing-platform-a3ee651812a</div>\n",
    "</div>\n",
    "<!-- BIBLIOGRAPHY END -->"
   ]
  }
 ],
 "metadata": {
  "citation-manager": {
   "items": {
    "zotero": {
     "6578788/AZYUGXBD": {
      "URL": "//nightlies.apache.org/flink/flink-docs-master/docs/learn-flink/etl/",
      "abstract": "Data Pipelines & ETL #  One very common use case for Apache Flink is to implement ETL (extract, transform, load) pipelines that take data from one or more sources, perform some transformations and/or enrichments, and then store the results somewhere. In this section we are going to look at how to use Flink’s DataStream API to implement this kind of application.\nNote that Flink’s Table and SQL APIs are well suited for many ETL use cases.",
      "accessed": {
       "date-parts": [
        [
         2022,
         3,
         11
        ]
       ]
      },
      "id": "6578788/AZYUGXBD",
      "language": "en",
      "system_id": "zotero|6578788/AZYUGXBD",
      "title": "Data Pipelines & ETL",
      "type": "webpage"
     },
     "6578788/FQ5QA3NL": {
      "URL": "https://ir.netflix.net/ir-overview/profile/default.aspx",
      "accessed": {
       "date-parts": [
        [
         2022,
         3,
         11
        ]
       ]
      },
      "id": "6578788/FQ5QA3NL",
      "system_id": "zotero|6578788/FQ5QA3NL",
      "title": "Netflix - Overview - Profile",
      "type": "webpage"
     },
     "6578788/IPJC2YZY": {
      "URL": "https://netflixtechblog.com/analytics-at-netflix-who-we-are-and-what-we-do-7d9c08fe6965",
      "abstract": "An Introduction to Analytics and Visualization Engineering at Netflix",
      "accessed": {
       "date-parts": [
        [
         2022,
         3,
         11
        ]
       ]
      },
      "author": [
       {
        "family": "Jackman",
        "given": "Molly"
       },
       {
        "family": "Reddy",
        "given": "Meghana"
       }
      ],
      "container-title": "Netflix Technology Blog",
      "id": "6578788/IPJC2YZY",
      "issued": {
       "date-parts": [
        [
         2020,
         12,
         18
        ]
       ]
      },
      "language": "en",
      "shortTitle": "Analytics at Netflix",
      "system_id": "zotero|6578788/IPJC2YZY",
      "title": "Analytics at Netflix: Who we are and what we do",
      "type": "webpage"
     },
     "6578788/JMNSJ7WZ": {
      "URL": "https://morganstanley.webcasts.com/viewer/event.jsp?ei=1534749&tp_key=67fe6fb0ba",
      "accessed": {
       "date-parts": [
        [
         2022,
         3,
         11
        ]
       ]
      },
      "container-title": "Investor Events",
      "id": "6578788/JMNSJ7WZ",
      "issued": {
       "date-parts": [
        [
         "2022",
         3,
         8
        ]
       ]
      },
      "system_id": "zotero|6578788/JMNSJ7WZ",
      "title": "Morgan Stanley Technology, Media & Telecom Conference",
      "type": "webpage"
     },
     "6578788/KM2X2AE5": {
      "URL": "https://kafka.apache.org/documentation/#intro_concepts_and_terms",
      "abstract": "Apache Kafka: A Distributed Streaming Platform.",
      "accessed": {
       "date-parts": [
        [
         2022,
         3,
         11
        ]
       ]
      },
      "container-title": "Apache Kafka",
      "id": "6578788/KM2X2AE5",
      "language": "en",
      "system_id": "zotero|6578788/KM2X2AE5",
      "title": "Apache Kafka",
      "type": "webpage"
     },
     "6578788/L2QBMLX2": {
      "URL": "https://netflixtechblog.com/auto-diagnosis-and-remediation-in-netflix-data-platform-5bcc52d853d1",
      "abstract": "By Vikram Srivastava and Marcelo Mayworm",
      "accessed": {
       "date-parts": [
        [
         2022,
         3,
         11
        ]
       ]
      },
      "author": [
       {
        "family": "Srivastava",
        "given": "Vikram"
       },
       {
        "family": "Mayworm",
        "given": "Marcelo"
       }
      ],
      "container-title": "Medium",
      "id": "6578788/L2QBMLX2",
      "issued": {
       "date-parts": [
        [
         2022,
         1,
         20
        ]
       ]
      },
      "language": "en",
      "system_id": "zotero|6578788/L2QBMLX2",
      "title": "Auto-Diagnosis and Remediation in Netflix Data Platform",
      "type": "webpage"
     },
     "6578788/QUNPSV7I": {
      "URL": "https://learning.oreilly.com/videos/jupytercon-new-york/9781492025818/9781492025818-video322538/",
      "abstract": "Netflix relies on notebooks to inform decisions and fuel experiments across the company. Now Netflix wants to go even further to deliver a compelling notebook experience for end-to-end workflows. Michelle Ufford shares some of the big bets Netflix is making on notebook infrastructure, covering data use at Netflix, architecture, kernels, UIs, and open source projects, such as nteract.",
      "accessed": {
       "date-parts": [
        [
         2022,
         3,
         11
        ]
       ]
      },
      "author": [
       {
        "family": "Ufford",
        "given": "Michelle"
       },
       {
        "family": "Kelley",
        "given": "Kyle"
       }
      ],
      "container-title": "O'Reilly Online Learning",
      "id": "6578788/QUNPSV7I",
      "issued": {
       "date-parts": [
        [
         2018
        ]
       ]
      },
      "language": "en",
      "shortTitle": "Notebooks at Netflix",
      "system_id": "zotero|6578788/QUNPSV7I",
      "title": "Notebooks at Netflix: From analytics to engineering (sponsored by Netflix) - Michelle Ufford (Netflix) Kyle Kelley (Netflix)",
      "type": "webpage"
     },
     "6578788/S5MM5FDD": {
      "URL": "https://netflixtechblog.com/rapid-event-notification-system-at-netflix-6deb1d2b57d1",
      "abstract": "This blog post gives an overview of the Rapid Event Notification System at Netflix and shares some of the learnings gained while building it",
      "accessed": {
       "date-parts": [
        [
         2022,
         3,
         11
        ]
       ]
      },
      "author": [
       {
        "family": "Gulati",
        "given": "Ankush"
       },
       {
        "family": "Gevorkyan",
        "given": "David"
       }
      ],
      "container-title": "Medium",
      "id": "6578788/S5MM5FDD",
      "issued": {
       "date-parts": [
        [
         2022,
         2,
         18
        ]
       ]
      },
      "language": "en",
      "system_id": "zotero|6578788/S5MM5FDD",
      "title": "Rapid Event Notification System at Netflix",
      "type": "webpage"
     },
     "6578788/USR3CK7T": {
      "URL": "https://netflixtechblog.com/keystone-real-time-stream-processing-platform-a3ee651812a",
      "abstract": "Keystone Stream Processing Platform is Netflix’s data backbone and an essential piece of infrastructure that enables engineering…",
      "accessed": {
       "date-parts": [
        [
         2022,
         3,
         11
        ]
       ]
      },
      "author": [
       {
        "family": "Xu",
        "given": "Zhenzhong"
       }
      ],
      "container-title": "Medium",
      "id": "6578788/USR3CK7T",
      "issued": {
       "date-parts": [
        [
         2018,
         9,
         10
        ]
       ]
      },
      "language": "en",
      "system_id": "zotero|6578788/USR3CK7T",
      "title": "Keystone Real-time Stream Processing Platform",
      "type": "webpage"
     },
     "6578788/X3RK3LMK": {
      "URL": "https://netflixtechblog.com/how-data-science-helps-power-worldwide-delivery-of-netflix-content-bac55800f9a7",
      "abstract": "by Andrew Berglund",
      "accessed": {
       "date-parts": [
        [
         2022,
         3,
         11
        ]
       ]
      },
      "author": [
       {
        "family": "Berglund",
        "given": "Andrew"
       }
      ],
      "container-title": "Medium",
      "id": "6578788/X3RK3LMK",
      "issued": {
       "date-parts": [
        [
         2017,
         5,
         25
        ]
       ]
      },
      "language": "en",
      "system_id": "zotero|6578788/X3RK3LMK",
      "title": "How Data Science Helps Power Worldwide Delivery of Netflix Content",
      "type": "webpage"
     }
    }
   }
  },
  "kernelspec": {
   "display_name": "Python 3 (ipykernel)",
   "language": "python",
   "name": "python3"
  },
  "language_info": {
   "codemirror_mode": {
    "name": "ipython",
    "version": 3
   },
   "file_extension": ".py",
   "mimetype": "text/x-python",
   "name": "python",
   "nbconvert_exporter": "python",
   "pygments_lexer": "ipython3",
   "version": "3.10.2"
  }
 },
 "nbformat": 4,
 "nbformat_minor": 5
}
