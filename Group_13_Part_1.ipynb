{
 "cells": [
  {
   "cell_type": "markdown",
   "id": "800f89c8-4e14-4c14-9e2a-7cd6efae7aab",
   "metadata": {
    "tags": []
   },
   "source": [
    "# ST590 - Project 2"
   ]
  },
  {
   "cell_type": "markdown",
   "id": "cc57923b-378a-42b3-ab61-663eb8fb91f5",
   "metadata": {},
   "source": [
    "Authored by Group 13 - Dave Bergeron, Xavier Genelin, and Maksim Nikiforov"
   ]
  },
  {
   "cell_type": "markdown",
   "id": "72710158-78dd-4056-acff-ca85c068ace0",
   "metadata": {},
   "source": [
    "---\n",
    "Placeholder cell for work in progress\n",
    "\n",
    "Relevant links:\n",
    "- [The Netflix Tech Blog (browse for relevant posts)](https://netflixtechblog.com/)\n",
    "- [Evolution of the Netflix Data Pipeline](https://netflixtechblog.com/evolution-of-the-netflix-data-pipeline-da246ca36905)\n",
    "- [Rapid Event Notification System at Netflix](https://netflixtechblog.com/rapid-event-notification-system-at-netflix-6deb1d2b57d1)\n",
    "- [Notebooks at Netflix: From analytics to engineering (sponsored by Netflix) - Michelle Ufford (Netflix) Kyle Kelley (Netflix)](https://learning.oreilly.com/videos/jupytercon-new-york/9781492025818/9781492025818-video322538/)\n",
    "- [Petabytes Scale Analytics Infrastructure @Netflix](https://www.infoq.com/presentations/netflix-big-data-infrastructure/)\n",
    "---"
   ]
  },
  {
   "cell_type": "markdown",
   "id": "f3faab23-7e3f-4f60-8d8a-e6b1635193e8",
   "metadata": {},
   "source": [
    "## Part 1"
   ]
  },
  {
   "cell_type": "markdown",
   "id": "98156c59-3497-4ebd-817c-c772bad3d796",
   "metadata": {
    "citation-manager": {
     "citations": {
      "3ezti": [
       {
        "id": "6578788/IPJC2YZY",
        "source": "zotero"
       }
      ]
     }
    },
    "tags": []
   },
   "source": [
    " <cite id=\"3ezti\"><a href=\"#zotero|6578788/IPJC2YZY\">(Jackman &#38; Reddy, 2020)</a></cite>"
   ]
  },
  {
   "cell_type": "markdown",
   "id": "c4fc01f3-9d47-4345-978f-e644d083c552",
   "metadata": {},
   "source": [
    "## Bibliography"
   ]
  },
  {
   "cell_type": "markdown",
   "id": "385698b7-6b30-498d-b761-c6834237ba60",
   "metadata": {},
   "source": [
    "<!-- BIBLIOGRAPHY START -->\n",
    "<div class=\"csl-bib-body\">\n",
    "  <div class=\"csl-entry\"><i id=\"zotero|6578788/IPJC2YZY\"></i>Jackman, M., &#38; Reddy, M. (2020, December 18). <i>Analytics at Netflix: Who we are and what we do</i>. Netflix Technology Blog. https://netflixtechblog.com/analytics-at-netflix-who-we-are-and-what-we-do-7d9c08fe6965</div>\n",
    "</div>\n",
    "<!-- BIBLIOGRAPHY END -->"
   ]
  }
 ],
 "metadata": {
  "citation-manager": {
   "items": {
    "zotero": {
     "6578788/IPJC2YZY": {
      "URL": "https://netflixtechblog.com/analytics-at-netflix-who-we-are-and-what-we-do-7d9c08fe6965",
      "abstract": "An Introduction to Analytics and Visualization Engineering at Netflix",
      "accessed": {
       "date-parts": [
        [
         2022,
         3,
         11
        ]
       ]
      },
      "author": [
       {
        "family": "Jackman",
        "given": "Molly"
       },
       {
        "family": "Reddy",
        "given": "Meghana"
       }
      ],
      "container-title": "Netflix Technology Blog",
      "id": "6578788/IPJC2YZY",
      "issued": {
       "date-parts": [
        [
         2020,
         12,
         18
        ]
       ]
      },
      "language": "en",
      "shortTitle": "Analytics at Netflix",
      "system_id": "zotero|6578788/IPJC2YZY",
      "title": "Analytics at Netflix: Who we are and what we do",
      "type": "webpage"
     }
    }
   }
  },
  "kernelspec": {
   "display_name": "Python 3 (ipykernel)",
   "language": "python",
   "name": "python3"
  },
  "language_info": {
   "codemirror_mode": {
    "name": "ipython",
    "version": 3
   },
   "file_extension": ".py",
   "mimetype": "text/x-python",
   "name": "python",
   "nbconvert_exporter": "python",
   "pygments_lexer": "ipython3",
   "version": "3.10.2"
  }
 },
 "nbformat": 4,
 "nbformat_minor": 5
}
