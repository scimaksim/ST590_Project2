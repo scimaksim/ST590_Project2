{
 "cells": [
  {
   "cell_type": "markdown",
   "id": "800f89c8-4e14-4c14-9e2a-7cd6efae7aab",
   "metadata": {
    "tags": []
   },
   "source": [
    "# ST590 - Project 2"
   ]
  },
  {
   "cell_type": "markdown",
   "id": "cc57923b-378a-42b3-ab61-663eb8fb91f5",
   "metadata": {},
   "source": [
    "Authored by Group 13 - Dave Bergeron, Xavier Genelin, and Maksim Nikiforov"
   ]
  },
  {
   "cell_type": "markdown",
   "id": "72710158-78dd-4056-acff-ca85c068ace0",
   "metadata": {},
   "source": [
    "---\n",
    "Placeholder cell for work in progress\n",
    "\n",
    "Relevant links:\n",
    "- [The Netflix Tech Blog (browse for relevant posts)](https://netflixtechblog.com/)\n",
    "- [Evolution of the Netflix Data Pipeline](https://netflixtechblog.com/evolution-of-the-netflix-data-pipeline-da246ca36905)\n",
    "- [Rapid Event Notification System at Netflix](https://netflixtechblog.com/rapid-event-notification-system-at-netflix-6deb1d2b57d1)\n",
    "- [Notebooks at Netflix: From analytics to engineering (sponsored by Netflix) - Michelle Ufford (Netflix) Kyle Kelley (Netflix)](https://learning.oreilly.com/videos/jupytercon-new-york/9781492025818/9781492025818-video322538/)\n",
    "- [Petabytes Scale Analytics Infrastructure @Netflix](https://www.infoq.com/presentations/netflix-big-data-infrastructure/)\n",
    "---"
   ]
  },
  {
   "cell_type": "markdown",
   "id": "26531341-f727-4417-aba6-a8c02ca6a67d",
   "metadata": {},
   "source": [
    "## Introduction"
   ]
  },
  {
   "cell_type": "markdown",
   "id": "98156c59-3497-4ebd-817c-c772bad3d796",
   "metadata": {
    "citation-manager": {
     "citations": {
      "3ezti": [
       {
        "id": "6578788/IPJC2YZY",
        "source": "zotero"
       }
      ],
      "hkegq": [
       {
        "id": "6578788/L2QBMLX2",
        "source": "zotero"
       }
      ],
      "rj71k": [
       {
        "id": "6578788/S5MM5FDD",
        "source": "zotero"
       }
      ]
     }
    },
    "tags": []
   },
   "source": [
    "Netflix is \"one of the world's leading entertainment services\", providing TV series, documentaries, feature films and mobile games to over 200 million subscribers. Within the company, \"[d]ata is used to inform a wide range of questions — ‘How can we make the product experience even better?’, ‘Which shows and films bring the most joy to our members?’, ‘Who can we partner with to expand access to our service in new markets?’ <cite id=\"3ezti\"><a href=\"#zotero|6578788/IPJC2YZY\">(Jackman &#38; Reddy, 2020)</a></cite>. The company's data scientists, engineers, analysts, and visualizers regularly interact with internal business verticals - product, content, membership, studio, marketing, and platform - to retain and drive new business, deliver a near real-time and consistent experience <cite id=\"rj71k\"><a href=\"#zotero|6578788/S5MM5FDD\">(Gulati &#38; Gevorkyan, 2022)</a></cite>, and troubleshoot problems <cite id=\"hkegq\"><a href=\"#zotero|6578788/L2QBMLX2\">(Srivastava &#38; Mayworm, 2022)</a></cite>. \n",
    "\n",
    "<div style=\"width:image width px; \n",
    "            font-size:80%; \n",
    "            text-align:center; \n",
    "            float: left; padding-left-right-top-bottom:0.5em;  \n",
    "            border-style: solid; border-color: rgba(211, 211, 211, 0.1);\n",
    "            background-color: rgb(255, 255, 255);\">\n",
    "    <img src=\"images/1_Pm_2Ai349Qh0W-caNQ9agQ.png\" \n",
    "         alt=\"Responsibilities of data analysts, engineers, and visualizers at Netflix\" \n",
    "         width=400 \n",
    "         style=\"padding-bottom:0.5em;\"/>\n",
    "    <div style=\"padding: 3px; \n",
    "                width: 400px; \n",
    "                word-wrap: break-word; \n",
    "                text-align:center;\">\n",
    "        Responsibilities of data professionals at Netflix. <br> \n",
    "        <a href=\"https://netflixtechblog.com/analytics-at-netflix-who-we-are-and-what-we-do-7d9c08fe6965\" \n",
    "           style=\"float: right;\"> \n",
    "           Image Source \n",
    "        </a>\n",
    "    </div>\n",
    "</div>\n"
   ]
  },
  {
   "cell_type": "markdown",
   "id": "dcd22a78-6e85-42e6-8a37-09ec8acecf53",
   "metadata": {},
   "source": [
    "## Systems overview"
   ]
  },
  {
   "cell_type": "markdown",
   "id": "c4fc01f3-9d47-4345-978f-e644d083c552",
   "metadata": {},
   "source": [
    "## Bibliography"
   ]
  },
  {
   "cell_type": "markdown",
   "id": "385698b7-6b30-498d-b761-c6834237ba60",
   "metadata": {},
   "source": [
    "<!-- BIBLIOGRAPHY START -->\n",
    "<div class=\"csl-bib-body\">\n",
    "  <div class=\"csl-entry\"><i id=\"zotero|6578788/S5MM5FDD\"></i>Gulati, A., &#38; Gevorkyan, D. (2022, February 18). <i>Rapid Event Notification System at Netflix</i>. Medium. https://netflixtechblog.com/rapid-event-notification-system-at-netflix-6deb1d2b57d1</div>\n",
    "  <div class=\"csl-entry\"><i id=\"zotero|6578788/IPJC2YZY\"></i>Jackman, M., &#38; Reddy, M. (2020, December 18). <i>Analytics at Netflix: Who we are and what we do</i>. Netflix Technology Blog. https://netflixtechblog.com/analytics-at-netflix-who-we-are-and-what-we-do-7d9c08fe6965</div>\n",
    "  <div class=\"csl-entry\"><i id=\"zotero|6578788/L2QBMLX2\"></i>Srivastava, V., &#38; Mayworm, M. (2022, January 20). <i>Auto-Diagnosis and Remediation in Netflix Data Platform</i>. Medium. https://netflixtechblog.com/auto-diagnosis-and-remediation-in-netflix-data-platform-5bcc52d853d1</div>\n",
    "</div>\n",
    "<!-- BIBLIOGRAPHY END -->"
   ]
  }
 ],
 "metadata": {
  "citation-manager": {
   "items": {
    "zotero": {
     "6578788/IPJC2YZY": {
      "URL": "https://netflixtechblog.com/analytics-at-netflix-who-we-are-and-what-we-do-7d9c08fe6965",
      "abstract": "An Introduction to Analytics and Visualization Engineering at Netflix",
      "accessed": {
       "date-parts": [
        [
         2022,
         3,
         11
        ]
       ]
      },
      "author": [
       {
        "family": "Jackman",
        "given": "Molly"
       },
       {
        "family": "Reddy",
        "given": "Meghana"
       }
      ],
      "container-title": "Netflix Technology Blog",
      "id": "6578788/IPJC2YZY",
      "issued": {
       "date-parts": [
        [
         2020,
         12,
         18
        ]
       ]
      },
      "language": "en",
      "shortTitle": "Analytics at Netflix",
      "system_id": "zotero|6578788/IPJC2YZY",
      "title": "Analytics at Netflix: Who we are and what we do",
      "type": "webpage"
     },
     "6578788/L2QBMLX2": {
      "URL": "https://netflixtechblog.com/auto-diagnosis-and-remediation-in-netflix-data-platform-5bcc52d853d1",
      "abstract": "By Vikram Srivastava and Marcelo Mayworm",
      "accessed": {
       "date-parts": [
        [
         2022,
         3,
         11
        ]
       ]
      },
      "author": [
       {
        "family": "Srivastava",
        "given": "Vikram"
       },
       {
        "family": "Mayworm",
        "given": "Marcelo"
       }
      ],
      "container-title": "Medium",
      "id": "6578788/L2QBMLX2",
      "issued": {
       "date-parts": [
        [
         2022,
         1,
         20
        ]
       ]
      },
      "language": "en",
      "system_id": "zotero|6578788/L2QBMLX2",
      "title": "Auto-Diagnosis and Remediation in Netflix Data Platform",
      "type": "webpage"
     },
     "6578788/S5MM5FDD": {
      "URL": "https://netflixtechblog.com/rapid-event-notification-system-at-netflix-6deb1d2b57d1",
      "abstract": "This blog post gives an overview of the Rapid Event Notification System at Netflix and shares some of the learnings gained while building it",
      "accessed": {
       "date-parts": [
        [
         2022,
         3,
         11
        ]
       ]
      },
      "author": [
       {
        "family": "Gulati",
        "given": "Ankush"
       },
       {
        "family": "Gevorkyan",
        "given": "David"
       }
      ],
      "container-title": "Medium",
      "id": "6578788/S5MM5FDD",
      "issued": {
       "date-parts": [
        [
         2022,
         2,
         18
        ]
       ]
      },
      "language": "en",
      "system_id": "zotero|6578788/S5MM5FDD",
      "title": "Rapid Event Notification System at Netflix",
      "type": "webpage"
     }
    }
   }
  },
  "kernelspec": {
   "display_name": "Python 3 (ipykernel)",
   "language": "python",
   "name": "python3"
  },
  "language_info": {
   "codemirror_mode": {
    "name": "ipython",
    "version": 3
   },
   "file_extension": ".py",
   "mimetype": "text/x-python",
   "name": "python",
   "nbconvert_exporter": "python",
   "pygments_lexer": "ipython3",
   "version": "3.10.2"
  }
 },
 "nbformat": 4,
 "nbformat_minor": 5
}
