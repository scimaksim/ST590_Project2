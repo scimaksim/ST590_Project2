{
 "cells": [
  {
   "cell_type": "markdown",
   "id": "1ddf830e-e303-4fec-b5f0-59f8a66cc512",
   "metadata": {},
   "source": [
    "# ST590 - Project 2"
   ]
  },
  {
   "cell_type": "markdown",
   "id": "62186834-cc37-4400-88d1-53b81bf272f5",
   "metadata": {},
   "source": [
    "Authored by Group 13 - Dave Bergeron, Xavier Genelin, and Maksim Nikiforov"
   ]
  },
  {
   "cell_type": "markdown",
   "id": "e936e7b9-1f30-461d-ab3b-f55d2a0d20c6",
   "metadata": {},
   "source": [
    "## Part 1"
   ]
  },
  {
   "cell_type": "markdown",
   "id": "b1b335fd-5dbf-42a1-a472-4a82b9512ab3",
   "metadata": {},
   "source": [
    "Placeholder cell for work in progress\n",
    "\n",
    "Relevant links:\n",
    "- [The Netflix Tech Blog (browse for relevant posts)](https://netflixtechblog.com/)\n",
    "- [Evolution of the Netflix Data Pipeline](https://netflixtechblog.com/evolution-of-the-netflix-data-pipeline-da246ca36905)\n",
    "- [Rapid Event Notification System at Netflix](https://netflixtechblog.com/rapid-event-notification-system-at-netflix-6deb1d2b57d1)\n",
    "- [Notebooks at Netflix: From analytics to engineering (sponsored by Netflix) - Michelle Ufford (Netflix) Kyle Kelley (Netflix)](https://learning.oreilly.com/videos/jupytercon-new-york/9781492025818/9781492025818-video322538/)\n",
    "- [Petabytes Scale Analytics Infrastructure @Netflix](https://www.infoq.com/presentations/netflix-big-data-infrastructure/)\n"
   ]
  },
  {
   "cell_type": "code",
   "execution_count": null,
   "id": "c49b5c80-41f7-4349-852c-a279bd251818",
   "metadata": {},
   "outputs": [],
   "source": []
  },
  {
   "cell_type": "code",
   "execution_count": null,
   "id": "d5a78764-3500-48c9-9a08-98c641c3c3bc",
   "metadata": {},
   "outputs": [],
   "source": []
  },
  {
   "cell_type": "code",
   "execution_count": null,
   "id": "6323f3b3-7649-4ebe-bd0c-bd81462db7c7",
   "metadata": {},
   "outputs": [],
   "source": []
  },
  {
   "cell_type": "markdown",
   "id": "3129cd61-fa6a-4b24-ae3b-86672359bd59",
   "metadata": {},
   "source": [
    "## Part 2"
   ]
  },
  {
   "cell_type": "code",
   "execution_count": null,
   "id": "101244a7-9733-4c5d-8f38-333b32183af7",
   "metadata": {},
   "outputs": [],
   "source": []
  },
  {
   "cell_type": "code",
   "execution_count": null,
   "id": "b5cd1ca2-f68b-4293-85d7-a672539b6870",
   "metadata": {},
   "outputs": [],
   "source": []
  },
  {
   "cell_type": "markdown",
   "id": "dc349f24-e6bf-4b4a-8b01-06f1489890a4",
   "metadata": {},
   "source": [
    "## Part 3"
   ]
  },
  {
   "cell_type": "code",
   "execution_count": null,
   "id": "745e1fdf-a241-46d7-ae0d-384f8830cdff",
   "metadata": {},
   "outputs": [],
   "source": []
  },
  {
   "cell_type": "code",
   "execution_count": null,
   "id": "a2f7f9e1-24c4-42fa-8302-fce2b63179ed",
   "metadata": {},
   "outputs": [],
   "source": []
  },
  {
   "cell_type": "code",
   "execution_count": null,
   "id": "1fa5b9ad-b652-4ad3-ba7b-5ddb618b39ca",
   "metadata": {},
   "outputs": [],
   "source": []
  },
  {
   "cell_type": "code",
   "execution_count": null,
   "id": "bbf581bf-4628-41dd-9da1-2161f89a84d7",
   "metadata": {},
   "outputs": [],
   "source": []
  }
 ],
 "metadata": {
  "kernelspec": {
   "display_name": "Python 3 (ipykernel)",
   "language": "python",
   "name": "python3"
  },
  "language_info": {
   "codemirror_mode": {
    "name": "ipython",
    "version": 3
   },
   "file_extension": ".py",
   "mimetype": "text/x-python",
   "name": "python",
   "nbconvert_exporter": "python",
   "pygments_lexer": "ipython3",
   "version": "3.10.2"
  }
 },
 "nbformat": 4,
 "nbformat_minor": 5
}
